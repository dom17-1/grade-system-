{
  "cells": [
    {
      "cell_type": "markdown",
      "metadata": {
        "id": "view-in-github",
        "colab_type": "text"
      },
      "source": [
        "<a href=\"https://colab.research.google.com/github/dom17-1/grade-system-/blob/main/Grade_system.ipynb\" target=\"_parent\"><img src=\"https://colab.research.google.com/assets/colab-badge.svg\" alt=\"Open In Colab\"/></a>"
      ]
    },
    {
      "cell_type": "code",
      "execution_count": null,
      "metadata": {
        "colab": {
          "background_save": true,
          "base_uri": "https://localhost:8080/"
        },
        "id": "aci_z9XLrStC",
        "outputId": "fa92078b-2ef4-4def-a0dc-cf18dc06919e"
      },
      "outputs": [
        {
          "name": "stdout",
          "output_type": "stream",
          "text": [
            "Grade: A-\n"
          ]
        }
      ],
      "source": [
        "# USIU's grading system\n",
        "grading_system = {\n",
        "     'A': (90, 100),\n",
        "    'A-': (87, 89),\n",
        "    'B+': (84-86),\n",
        "    'B': (80, 83),\n",
        "    'B-': (77, 79),\n",
        "    'C+': (74, 76),\n",
        "    'C': (70, 73),\n",
        "    'C-': (67, 69),\n",
        "    'D+': (64, 66),\n",
        "    'D': (62, 63),\n",
        "    'D-': (60, 61),\n",
        "    'F': (0, 59)\n",
        "}\n",
        "\n",
        "def get_grade(marks):\n",
        "    for grade, (lower, upper) in grading_system.items():\n",
        "        if lower <= marks <= upper:\n",
        "            return grade\n",
        "    return \"Invalid marks\"\n",
        "\n",
        "while True:\n",
        "    marks = input(\"Enter marks  \")\n",
        "    if marks.lower() == 'quit':\n",
        "        break\n",
        "\n",
        "\n",
        "    try:\n",
        "        marks = float(marks)\n",
        "        if marks < 0 or marks > 100:\n",
        "            print(\"Invalid marks. Please enter a value between 0 and 100.\")\n",
        "        else:\n",
        "            grade = get_grade(marks)\n",
        "            print(f\"Grade: {grade}\")\n",
        "    except ValueError:\n",
        "        print(\"Invalid input. Please enter a numerical value.\")"
      ]
    }
  ],
  "metadata": {
    "colab": {
      "provenance": [],
      "authorship_tag": "ABX9TyOkO+Hv7IVHTt+F135cGYI/",
      "include_colab_link": true
    },
    "kernelspec": {
      "display_name": "Python 3",
      "name": "python3"
    },
    "language_info": {
      "name": "python"
    }
  },
  "nbformat": 4,
  "nbformat_minor": 0
}